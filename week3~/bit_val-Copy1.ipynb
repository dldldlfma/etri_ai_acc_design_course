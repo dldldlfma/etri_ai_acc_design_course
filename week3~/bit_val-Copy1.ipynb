{
 "cells": [
  {
   "cell_type": "markdown",
   "metadata": {},
   "source": [
    "# Bit precision change \n",
    "\n",
    "## 32bit -> X bit"
   ]
  },
  {
   "cell_type": "code",
   "execution_count": 1,
   "metadata": {},
   "outputs": [],
   "source": [
    "caffe_root = '/home/socmgr/caffe/'\n",
    "import numpy as np\n",
    "import sys\n",
    "import json\n",
    "sys.path.insert(0,caffe_root + 'python')\n",
    "import caffe\n",
    "\n",
    "\n",
    "prototxt = '/home/socmgr/caffe/models/SqueezeNet/SqueezeNet_v1.0/deploy.prototxt'\n",
    "caffemodel = '/home/socmgr/caffe/models/SqueezeNet/SqueezeNet_v1.0/squeezenet_v1.0.caffemodel'\n",
    "\n",
    "net = caffe.Net(prototxt, caffemodel, caffe.TEST)\n",
    "\n",
    "dict_params = {}\n",
    "for param in net.params:\n",
    "    dict_params[param] = {'data':  net.params[param][0].data.tolist(),\n",
    "                          'shape': net.params[param][0].data.shape}\n",
    "    \n",
    "    \n",
    "    \n",
    "def bit_change(val,bit):\n",
    "    change_val = int((val) * (2**bit))\n",
    "    return (float(change_val) / (2**bit))"
   ]
  },
  {
   "cell_type": "code",
   "execution_count": 2,
   "metadata": {},
   "outputs": [
    {
     "data": {
      "text/plain": [
       "array([-0.00378918, -0.00499207, -0.03612753, -0.04703908, -0.05948497,\n",
       "       -0.01597289,  0.00537561], dtype=float32)"
      ]
     },
     "execution_count": 2,
     "metadata": {},
     "output_type": "execute_result"
    }
   ],
   "source": [
    "net.params['conv1'][0].data[0][0][0]"
   ]
  },
  {
   "cell_type": "code",
   "execution_count": 3,
   "metadata": {},
   "outputs": [],
   "source": [
    "x_bit=16\n",
    "val={}\n",
    "\n",
    "\"\"\"\n",
    "for param in net.params:\n",
    "    print(net.params[param][0].data.shape)\n",
    "    w_list = net.params[param][0].data\n",
    "    for i in range(int(w_list.shape[0])):\n",
    "        for j in range(int(w_list.shape[1])):\n",
    "            for k in range(int(w_list.shape[2])):\n",
    "                for l in range(int(w_list.shape[3])):\n",
    "                    before=w_list[i][j][k][l]\n",
    "                    print(w_list[i][j][k][l])\n",
    "                    w_list[i][j][k][l] = bit_change(w_list[i][j][k][l],bit)\n",
    "                    print(w_list[i][j][k][l])\n",
    "                    print(\"dff : {}\".format((before-w_list[i][j][k][l])))\n",
    "\"\"\"    \n",
    "\n",
    "for param in net.params:\n",
    "    #print(net.params[param][0].data.shape)\n",
    "    w_list = net.params[param][0].data\n",
    "    for i in range(int(w_list.shape[0])):\n",
    "        for j in range(int(w_list.shape[1])):\n",
    "            for k in range(int(w_list.shape[2])):\n",
    "                for l in range(int(w_list.shape[3])):\n",
    "                    w_list[i][j][k][l] = bit_change(w_list[i][j][k][l],x_bit)                    "
   ]
  },
  {
   "cell_type": "code",
   "execution_count": 4,
   "metadata": {},
   "outputs": [
    {
     "data": {
      "text/plain": [
       "array([-0.00378418, -0.00498962, -0.03611755, -0.04702759, -0.05947876,\n",
       "       -0.01596069,  0.00537109], dtype=float32)"
      ]
     },
     "execution_count": 4,
     "metadata": {},
     "output_type": "execute_result"
    }
   ],
   "source": [
    "net.params['conv1'][0].data[0][0][0]"
   ]
  },
  {
   "cell_type": "code",
   "execution_count": null,
   "metadata": {},
   "outputs": [],
   "source": []
  },
  {
   "cell_type": "code",
   "execution_count": null,
   "metadata": {},
   "outputs": [],
   "source": []
  },
  {
   "cell_type": "code",
   "execution_count": null,
   "metadata": {},
   "outputs": [],
   "source": []
  },
  {
   "cell_type": "code",
   "execution_count": null,
   "metadata": {},
   "outputs": [],
   "source": []
  },
  {
   "cell_type": "code",
   "execution_count": null,
   "metadata": {},
   "outputs": [],
   "source": []
  },
  {
   "cell_type": "code",
   "execution_count": null,
   "metadata": {},
   "outputs": [],
   "source": []
  }
 ],
 "metadata": {
  "kernelspec": {
   "display_name": "Python 2",
   "language": "python",
   "name": "python2"
  },
  "language_info": {
   "codemirror_mode": {
    "name": "ipython",
    "version": 2
   },
   "file_extension": ".py",
   "mimetype": "text/x-python",
   "name": "python",
   "nbconvert_exporter": "python",
   "pygments_lexer": "ipython2",
   "version": "2.7.12"
  }
 },
 "nbformat": 4,
 "nbformat_minor": 2
}
